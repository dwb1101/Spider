{
 "cells": [
  {
   "cell_type": "code",
   "execution_count": 2,
   "metadata": {
    "collapsed": true
   },
   "outputs": [
    {
     "name": "stdout",
     "output_type": "stream",
     "text": [
      "   score  count\n0      2      1\n1      3      2\n2      4      1\n3      5     87\n"
     ]
    }
   ],
   "source": [
    "#可视化工具\n",
    "import numpy as np\n",
    "import pandas as pd\n",
    "import matplotlib.pyplot as plp\n",
    "import seaborn as sns\n",
    "data=pd.read_csv(\"data/dataSum.txt\",\n",
    "                 encoding=\"utf-8\",\n",
    "                 header=None,\n",
    "                 names=[\"score\",\"count\"])\n",
    "print(data)"
   ]
  },
  {
   "cell_type": "code",
   "execution_count": 3,
   "metadata": {},
   "outputs": [],
   "source": [
    "# 设置\n",
    "# 设置运行模式(notebook模式) 横纵坐标标记\n",
    "sns.set_context(\"notebook\", font_scale=1.3)\n",
    "# 可以设置颜色\n",
    "sns.set_palette(\"Set2\")  # 使用配色Set2\n",
    "# 内嵌模式\n",
    "% matplotlib inline\n",
    "% config InlneBackend.figure_format='retina '"
   ]
  },
  {
   "cell_type": "code",
   "execution_count": 6,
   "metadata": {},
   "outputs": [
    {
     "data": {
      "image/png": "[encoded data removed]",
      "text/plain": [
       "<Figure size 432x288 with 1 Axes>"
      ]
     },
     "metadata": {},
     "output_type": "display_data"
    }
   ],
   "source": [
    "# 数据以柱状图显示 score作为横坐标 sum作为纵坐标\n",
    "png=sns.barplot(x=data[\"score\"], y=data[\"count\"], data=data)\n",
    "#获得这个图形 保存到变量里\n",
    "x1 = png.get_figure()\n",
    "# 变量调用savefig(\"保存的路径\")\n",
    "# 直接文件名 默认在项目下一级\n",
    "x1.savefig(\"F:\\IDER\\dangtu\\Spider\\data\\out.png\")"
   ]
  },
  {
   "cell_type": "code",
   "execution_count": null,
   "metadata": {},
   "outputs": [],
   "source": []
  }
 ],
 "metadata": {
  "kernelspec": {
   "display_name": "Python 2",
   "language": "python",
   "name": "python2"
  },
  "language_info": {
   "codemirror_mode": {
    "name": "ipython",
    "version": 2
   },
   "file_extension": ".py",
   "mimetype": "text/x-python",
   "name": "python",
   "nbconvert_exporter": "python",
   "pygments_lexer": "ipython2",
   "version": "2.7.6"
  }
 },
 "nbformat": 4,
 "nbformat_minor": 0
}
